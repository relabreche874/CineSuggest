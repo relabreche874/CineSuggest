{
 "cells": [
  {
   "cell_type": "markdown",
   "id": "f8a52402",
   "metadata": {},
   "source": [
    "# CineSuggest"
   ]
  },
  {
   "cell_type": "code",
   "execution_count": 68,
   "id": "af6a90b9",
   "metadata": {},
   "outputs": [
    {
     "name": "stderr",
     "output_type": "stream",
     "text": [
      "[nltk_data] Downloading package punkt to /Users/robert/nltk_data...\n",
      "[nltk_data]   Package punkt is already up-to-date!\n",
      "[nltk_data] Downloading package stopwords to\n",
      "[nltk_data]     /Users/robert/nltk_data...\n",
      "[nltk_data]   Package stopwords is already up-to-date!\n"
     ]
    }
   ],
   "source": [
    "import nltk\n",
    "nltk.download('punkt')\n",
    "nltk.download('stopwords')\n",
    "import pandas as pd\n",
    "import re\n",
    "import sklearn\n",
    "from sklearn.metrics.pairwise import cosine_similarity\n",
    "from sklearn.feature_extraction.text import TfidfVectorizer"
   ]
  },
  {
   "cell_type": "code",
   "execution_count": 69,
   "id": "a6b3aa12",
   "metadata": {},
   "outputs": [],
   "source": [
    "df = pd.read_csv('imdb.csv')"
   ]
  },
  {
   "cell_type": "code",
   "execution_count": 70,
   "id": "f191ff9b",
   "metadata": {},
   "outputs": [],
   "source": [
    "# df.head()"
   ]
  },
  {
   "cell_type": "code",
   "execution_count": 71,
   "id": "7e5dff27",
   "metadata": {},
   "outputs": [],
   "source": [
    "# df['Series_Title'] = df['Series_Title'].apply(lambda i: i.split(','))"
   ]
  },
  {
   "cell_type": "code",
   "execution_count": 72,
   "id": "954ac11c",
   "metadata": {},
   "outputs": [],
   "source": [
    "# df['Series_Title'][1]"
   ]
  },
  {
   "cell_type": "code",
   "execution_count": 73,
   "id": "e8da30a5",
   "metadata": {},
   "outputs": [],
   "source": [
    "df['Overview'] = df['Overview'].str.lower()\n",
    "df['Overview'] = df['Overview'].apply(lambda i: re.sub('[^a-zA-Z]', ' ', i))\n",
    "df['Overview'] = df['Overview'].apply(lambda i: re.sub('\\s+', ' ', i))"
   ]
  },
  {
   "cell_type": "code",
   "execution_count": 74,
   "id": "bd84e176",
   "metadata": {},
   "outputs": [],
   "source": [
    "# df['Overview']"
   ]
  },
  {
   "cell_type": "code",
   "execution_count": 75,
   "id": "8a0803cf",
   "metadata": {},
   "outputs": [],
   "source": [
    "df['Overview'] = df['Overview'].apply(lambda i: nltk.word_tokenize(i))\n",
    "# df['Overview']"
   ]
  },
  {
   "cell_type": "code",
   "execution_count": 76,
   "id": "eccb1b5a",
   "metadata": {},
   "outputs": [],
   "source": [
    "word_rem = nltk.corpus.stopwords.words('english')\n",
    "temp_list = []\n",
    "for sent in df['Overview']:\n",
    "    temp = []\n",
    "    for word in sent:\n",
    "        if word not in word_rem and len(word) >= 3:\n",
    "            temp.append(word)\n",
    "    temp_list.append(temp)\n",
    "# temp_list"
   ]
  },
  {
   "cell_type": "code",
   "execution_count": 77,
   "id": "04fa9c8f",
   "metadata": {},
   "outputs": [],
   "source": [
    "df['Overview'] = temp_list\n",
    "# df['Overview']"
   ]
  },
  {
   "cell_type": "code",
   "execution_count": 78,
   "id": "5aac77cf",
   "metadata": {},
   "outputs": [],
   "source": [
    "df['Genre'] = df['Genre'].apply(lambda i: i.split(','))\n",
    "# df['Genre'][0]"
   ]
  },
  {
   "cell_type": "code",
   "execution_count": null,
   "id": "3bc92bda",
   "metadata": {},
   "outputs": [],
   "source": [
    "df['Actors'] = df['Star1'] +','+ df['Star2'] +','+ df['Star3'] +','+ df['Star4']\n",
    "df['Actors'] = df['Actors'].apply(lambda i: i.split(','))"
   ]
  },
  {
   "cell_type": "code",
   "execution_count": null,
   "id": "c2b11981",
   "metadata": {},
   "outputs": [],
   "source": [
    "# df['Actors'][85]"
   ]
  },
  {
   "cell_type": "code",
   "execution_count": null,
   "id": "449a8618",
   "metadata": {},
   "outputs": [],
   "source": [
    "df['Director'] = df['Director'].apply(lambda i: i.split(','))\n",
    "# df['Director'][0]"
   ]
  },
  {
   "cell_type": "code",
   "execution_count": null,
   "id": "8c60733e",
   "metadata": {},
   "outputs": [],
   "source": [
    "def lowlow(lst):\n",
    "    temp_lst = []\n",
    "    for i in lst:\n",
    "        temp_lst.append(i.lower().replace(' ', ''))\n",
    "    return temp_lst"
   ]
  },
  {
   "cell_type": "code",
   "execution_count": null,
   "id": "50e35b1a",
   "metadata": {},
   "outputs": [],
   "source": [
    "df['Genre'] = [lowlow(x) for x in df['Genre']]\n",
    "df['Actors'] = [lowlow(x) for x in df['Actors']]\n",
    "df['Director'] = [lowlow(x) for x in df['Director']]"
   ]
  },
  {
   "cell_type": "code",
   "execution_count": null,
   "id": "00754318",
   "metadata": {},
   "outputs": [],
   "source": [
    "# df['Director'][0]"
   ]
  },
  {
   "cell_type": "code",
   "execution_count": null,
   "id": "1cb33d97",
   "metadata": {},
   "outputs": [],
   "source": [
    "# df['Genre'][0]"
   ]
  },
  {
   "cell_type": "code",
   "execution_count": null,
   "id": "6a8a8ac3",
   "metadata": {},
   "outputs": [],
   "source": [
    "# df['Actors'][0]"
   ]
  },
  {
   "cell_type": "code",
   "execution_count": null,
   "id": "e670aaf2",
   "metadata": {},
   "outputs": [],
   "source": [
    "col_list = ['Overview', 'Genre', 'Director', 'Actors']\n",
    "new_list = []\n",
    "for i in range(len(df)):\n",
    "    words = ''\n",
    "    for col in col_list:\n",
    "        words += ' '.join(df[col][i]) + ' '\n",
    "    new_list.append(words)"
   ]
  },
  {
   "cell_type": "code",
   "execution_count": null,
   "id": "4c394d6e",
   "metadata": {},
   "outputs": [],
   "source": [
    "# new_list"
   ]
  },
  {
   "cell_type": "code",
   "execution_count": null,
   "id": "4942383c",
   "metadata": {},
   "outputs": [],
   "source": [
    "df['Overview'] = new_list\n",
    "df = df[['Series_Title', 'Overview']]\n",
    "# df.head()"
   ]
  },
  {
   "cell_type": "code",
   "execution_count": null,
   "id": "04f0059c",
   "metadata": {},
   "outputs": [],
   "source": [
    "# computes the term frequency (TF) for each term in each document, which is the number of \n",
    "# times a term appears in a document\n",
    "\n",
    "tfi_vect = TfidfVectorizer()\n",
    "\n",
    "# fits the vectorizer to the training data\n",
    "feats = tfi_vect.fit_transform(df['Overview'])"
   ]
  },
  {
   "cell_type": "code",
   "execution_count": null,
   "id": "84e4c7d6",
   "metadata": {},
   "outputs": [],
   "source": [
    "# looks for similiarites in words in Overview rows\n",
    "cos_sim = cosine_similarity(feats, feats)\n",
    "# print(cos_sim)"
   ]
  },
  {
   "cell_type": "code",
   "execution_count": null,
   "id": "a6c700db",
   "metadata": {},
   "outputs": [],
   "source": [
    "index = pd.Series(df['Series_Title'])\n",
    "# index.head()"
   ]
  },
  {
   "cell_type": "code",
   "execution_count": null,
   "id": "8d019a03",
   "metadata": {},
   "outputs": [],
   "source": [
    "def suggest(title):\n",
    "    movies = []\n",
    "    idx = index[index == title].index[0]\n",
    "    # print(idx)\n",
    "    sims = pd.Series(cos_sim[idx]).sort_values(ascending=False)\n",
    "    top3 = list(sims.iloc[1:4].index)\n",
    "    # print(top3)\n",
    "    \n",
    "    for i in top3:\n",
    "        movies.append(df['Series_Title'][i])\n",
    "    return movies"
   ]
  },
  {
   "cell_type": "code",
   "execution_count": null,
   "id": "792d108e",
   "metadata": {},
   "outputs": [],
   "source": [
    "suggest('12 Angry Men')"
   ]
  },
  {
   "cell_type": "code",
   "execution_count": null,
   "id": "74099423",
   "metadata": {},
   "outputs": [],
   "source": [
    "user_list = ['Blade Runner', 'Donnie Darko', 'Dazed and Confused', 'Alien', 'Prometheus']"
   ]
  },
  {
   "cell_type": "code",
   "execution_count": null,
   "id": "31d7661c",
   "metadata": {},
   "outputs": [],
   "source": [
    "suggest(user_list[1])"
   ]
  },
  {
   "cell_type": "code",
   "execution_count": null,
   "id": "9224e32b",
   "metadata": {},
   "outputs": [],
   "source": []
  },
  {
   "cell_type": "code",
   "execution_count": null,
   "id": "7c9a03e6",
   "metadata": {},
   "outputs": [],
   "source": []
  },
  {
   "cell_type": "code",
   "execution_count": null,
   "id": "d0f313c7",
   "metadata": {},
   "outputs": [],
   "source": []
  },
  {
   "cell_type": "code",
   "execution_count": null,
   "id": "7198378e",
   "metadata": {},
   "outputs": [],
   "source": []
  },
  {
   "cell_type": "code",
   "execution_count": null,
   "id": "3412183d",
   "metadata": {},
   "outputs": [],
   "source": []
  },
  {
   "cell_type": "code",
   "execution_count": null,
   "id": "7b92e5d4",
   "metadata": {},
   "outputs": [],
   "source": []
  },
  {
   "cell_type": "code",
   "execution_count": null,
   "id": "b82ae38f",
   "metadata": {},
   "outputs": [],
   "source": []
  },
  {
   "cell_type": "code",
   "execution_count": null,
   "id": "87b10525",
   "metadata": {},
   "outputs": [],
   "source": []
  },
  {
   "cell_type": "code",
   "execution_count": null,
   "id": "c5e6474d",
   "metadata": {},
   "outputs": [],
   "source": []
  },
  {
   "cell_type": "code",
   "execution_count": null,
   "id": "1c50a1fa",
   "metadata": {},
   "outputs": [],
   "source": []
  },
  {
   "cell_type": "code",
   "execution_count": null,
   "id": "5fed846c",
   "metadata": {},
   "outputs": [],
   "source": []
  },
  {
   "cell_type": "code",
   "execution_count": null,
   "id": "30021dd7",
   "metadata": {},
   "outputs": [],
   "source": []
  },
  {
   "cell_type": "code",
   "execution_count": null,
   "id": "79c42a7c",
   "metadata": {},
   "outputs": [],
   "source": []
  }
 ],
 "metadata": {
  "kernelspec": {
   "display_name": "venv",
   "language": "python",
   "name": "venv"
  },
  "language_info": {
   "codemirror_mode": {
    "name": "ipython",
    "version": 3
   },
   "file_extension": ".py",
   "mimetype": "text/x-python",
   "name": "python",
   "nbconvert_exporter": "python",
   "pygments_lexer": "ipython3",
   "version": "3.11.2"
  }
 },
 "nbformat": 4,
 "nbformat_minor": 5
}
