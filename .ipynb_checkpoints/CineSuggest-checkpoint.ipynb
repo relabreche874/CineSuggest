{
 "cells": [
  {
   "cell_type": "markdown",
   "id": "f8a52402",
   "metadata": {},
   "source": [
    "# CineSuggest"
   ]
  },
  {
   "cell_type": "code",
   "execution_count": 237,
   "id": "af6a90b9",
   "metadata": {},
   "outputs": [
    {
     "name": "stderr",
     "output_type": "stream",
     "text": [
      "[nltk_data] Downloading package punkt to /Users/robert/nltk_data...\n",
      "[nltk_data]   Package punkt is already up-to-date!\n",
      "[nltk_data] Downloading package stopwords to\n",
      "[nltk_data]     /Users/robert/nltk_data...\n",
      "[nltk_data]   Package stopwords is already up-to-date!\n"
     ]
    }
   ],
   "source": [
    "import nltk\n",
    "nltk.download('punkt')\n",
    "nltk.download('stopwords')\n",
    "import numpy as np\n",
    "import pandas as pd\n",
    "import re\n",
    "import sklearn\n",
    "from sklearn.metrics.pairwise import cosine_similarity"
   ]
  },
  {
   "cell_type": "code",
   "execution_count": 238,
   "id": "a6b3aa12",
   "metadata": {},
   "outputs": [],
   "source": [
    "df = pd.read_csv('imdb.csv')"
   ]
  },
  {
   "cell_type": "code",
   "execution_count": 239,
   "id": "f191ff9b",
   "metadata": {},
   "outputs": [
    {
     "data": {
      "text/html": [
       "<div>\n",
       "<style scoped>\n",
       "    .dataframe tbody tr th:only-of-type {\n",
       "        vertical-align: middle;\n",
       "    }\n",
       "\n",
       "    .dataframe tbody tr th {\n",
       "        vertical-align: top;\n",
       "    }\n",
       "\n",
       "    .dataframe thead th {\n",
       "        text-align: right;\n",
       "    }\n",
       "</style>\n",
       "<table border=\"1\" class=\"dataframe\">\n",
       "  <thead>\n",
       "    <tr style=\"text-align: right;\">\n",
       "      <th></th>\n",
       "      <th>Poster_Link</th>\n",
       "      <th>Series_Title</th>\n",
       "      <th>Released_Year</th>\n",
       "      <th>Certificate</th>\n",
       "      <th>Runtime</th>\n",
       "      <th>Genre</th>\n",
       "      <th>IMDB_Rating</th>\n",
       "      <th>Overview</th>\n",
       "      <th>Meta_score</th>\n",
       "      <th>Director</th>\n",
       "      <th>Star1</th>\n",
       "      <th>Star2</th>\n",
       "      <th>Star3</th>\n",
       "      <th>Star4</th>\n",
       "      <th>No_of_Votes</th>\n",
       "      <th>Gross</th>\n",
       "    </tr>\n",
       "  </thead>\n",
       "  <tbody>\n",
       "    <tr>\n",
       "      <th>0</th>\n",
       "      <td>https://m.media-amazon.com/images/M/MV5BMDFkYT...</td>\n",
       "      <td>The Shawshank Redemption</td>\n",
       "      <td>1994</td>\n",
       "      <td>A</td>\n",
       "      <td>142 min</td>\n",
       "      <td>Drama</td>\n",
       "      <td>9.3</td>\n",
       "      <td>Two imprisoned men bond over a number of years...</td>\n",
       "      <td>80.0</td>\n",
       "      <td>Frank Darabont</td>\n",
       "      <td>Tim Robbins</td>\n",
       "      <td>Morgan Freeman</td>\n",
       "      <td>Bob Gunton</td>\n",
       "      <td>William Sadler</td>\n",
       "      <td>2343110</td>\n",
       "      <td>28,341,469</td>\n",
       "    </tr>\n",
       "    <tr>\n",
       "      <th>1</th>\n",
       "      <td>https://m.media-amazon.com/images/M/MV5BM2MyNj...</td>\n",
       "      <td>The Godfather</td>\n",
       "      <td>1972</td>\n",
       "      <td>A</td>\n",
       "      <td>175 min</td>\n",
       "      <td>Crime, Drama</td>\n",
       "      <td>9.2</td>\n",
       "      <td>An organized crime dynasty's aging patriarch t...</td>\n",
       "      <td>100.0</td>\n",
       "      <td>Francis Ford Coppola</td>\n",
       "      <td>Marlon Brando</td>\n",
       "      <td>Al Pacino</td>\n",
       "      <td>James Caan</td>\n",
       "      <td>Diane Keaton</td>\n",
       "      <td>1620367</td>\n",
       "      <td>134,966,411</td>\n",
       "    </tr>\n",
       "    <tr>\n",
       "      <th>2</th>\n",
       "      <td>https://m.media-amazon.com/images/M/MV5BMTMxNT...</td>\n",
       "      <td>The Dark Knight</td>\n",
       "      <td>2008</td>\n",
       "      <td>UA</td>\n",
       "      <td>152 min</td>\n",
       "      <td>Action, Crime, Drama</td>\n",
       "      <td>9.0</td>\n",
       "      <td>When the menace known as the Joker wreaks havo...</td>\n",
       "      <td>84.0</td>\n",
       "      <td>Christopher Nolan</td>\n",
       "      <td>Christian Bale</td>\n",
       "      <td>Heath Ledger</td>\n",
       "      <td>Aaron Eckhart</td>\n",
       "      <td>Michael Caine</td>\n",
       "      <td>2303232</td>\n",
       "      <td>534,858,444</td>\n",
       "    </tr>\n",
       "    <tr>\n",
       "      <th>3</th>\n",
       "      <td>https://m.media-amazon.com/images/M/MV5BMWMwMG...</td>\n",
       "      <td>The Godfather: Part II</td>\n",
       "      <td>1974</td>\n",
       "      <td>A</td>\n",
       "      <td>202 min</td>\n",
       "      <td>Crime, Drama</td>\n",
       "      <td>9.0</td>\n",
       "      <td>The early life and career of Vito Corleone in ...</td>\n",
       "      <td>90.0</td>\n",
       "      <td>Francis Ford Coppola</td>\n",
       "      <td>Al Pacino</td>\n",
       "      <td>Robert De Niro</td>\n",
       "      <td>Robert Duvall</td>\n",
       "      <td>Diane Keaton</td>\n",
       "      <td>1129952</td>\n",
       "      <td>57,300,000</td>\n",
       "    </tr>\n",
       "    <tr>\n",
       "      <th>4</th>\n",
       "      <td>https://m.media-amazon.com/images/M/MV5BMWU4N2...</td>\n",
       "      <td>12 Angry Men</td>\n",
       "      <td>1957</td>\n",
       "      <td>U</td>\n",
       "      <td>96 min</td>\n",
       "      <td>Crime, Drama</td>\n",
       "      <td>9.0</td>\n",
       "      <td>A jury holdout attempts to prevent a miscarria...</td>\n",
       "      <td>96.0</td>\n",
       "      <td>Sidney Lumet</td>\n",
       "      <td>Henry Fonda</td>\n",
       "      <td>Lee J. Cobb</td>\n",
       "      <td>Martin Balsam</td>\n",
       "      <td>John Fiedler</td>\n",
       "      <td>689845</td>\n",
       "      <td>4,360,000</td>\n",
       "    </tr>\n",
       "  </tbody>\n",
       "</table>\n",
       "</div>"
      ],
      "text/plain": [
       "                                         Poster_Link   \n",
       "0  https://m.media-amazon.com/images/M/MV5BMDFkYT...  \\\n",
       "1  https://m.media-amazon.com/images/M/MV5BM2MyNj...   \n",
       "2  https://m.media-amazon.com/images/M/MV5BMTMxNT...   \n",
       "3  https://m.media-amazon.com/images/M/MV5BMWMwMG...   \n",
       "4  https://m.media-amazon.com/images/M/MV5BMWU4N2...   \n",
       "\n",
       "               Series_Title Released_Year Certificate  Runtime   \n",
       "0  The Shawshank Redemption          1994           A  142 min  \\\n",
       "1             The Godfather          1972           A  175 min   \n",
       "2           The Dark Knight          2008          UA  152 min   \n",
       "3    The Godfather: Part II          1974           A  202 min   \n",
       "4              12 Angry Men          1957           U   96 min   \n",
       "\n",
       "                  Genre  IMDB_Rating   \n",
       "0                 Drama          9.3  \\\n",
       "1          Crime, Drama          9.2   \n",
       "2  Action, Crime, Drama          9.0   \n",
       "3          Crime, Drama          9.0   \n",
       "4          Crime, Drama          9.0   \n",
       "\n",
       "                                            Overview  Meta_score   \n",
       "0  Two imprisoned men bond over a number of years...        80.0  \\\n",
       "1  An organized crime dynasty's aging patriarch t...       100.0   \n",
       "2  When the menace known as the Joker wreaks havo...        84.0   \n",
       "3  The early life and career of Vito Corleone in ...        90.0   \n",
       "4  A jury holdout attempts to prevent a miscarria...        96.0   \n",
       "\n",
       "               Director           Star1           Star2          Star3   \n",
       "0        Frank Darabont     Tim Robbins  Morgan Freeman     Bob Gunton  \\\n",
       "1  Francis Ford Coppola   Marlon Brando       Al Pacino     James Caan   \n",
       "2     Christopher Nolan  Christian Bale    Heath Ledger  Aaron Eckhart   \n",
       "3  Francis Ford Coppola       Al Pacino  Robert De Niro  Robert Duvall   \n",
       "4          Sidney Lumet     Henry Fonda     Lee J. Cobb  Martin Balsam   \n",
       "\n",
       "            Star4  No_of_Votes        Gross  \n",
       "0  William Sadler      2343110   28,341,469  \n",
       "1    Diane Keaton      1620367  134,966,411  \n",
       "2   Michael Caine      2303232  534,858,444  \n",
       "3    Diane Keaton      1129952   57,300,000  \n",
       "4    John Fiedler       689845    4,360,000  "
      ]
     },
     "execution_count": 239,
     "metadata": {},
     "output_type": "execute_result"
    }
   ],
   "source": [
    "df.head()"
   ]
  },
  {
   "cell_type": "code",
   "execution_count": 240,
   "id": "7e5dff27",
   "metadata": {},
   "outputs": [],
   "source": [
    "# df['Series_Title'] = df['Series_Title'].apply(lambda i: i.split(','))"
   ]
  },
  {
   "cell_type": "code",
   "execution_count": 241,
   "id": "954ac11c",
   "metadata": {},
   "outputs": [
    {
     "data": {
      "text/plain": [
       "'The Godfather'"
      ]
     },
     "execution_count": 241,
     "metadata": {},
     "output_type": "execute_result"
    }
   ],
   "source": [
    "df['Series_Title'][1]"
   ]
  },
  {
   "cell_type": "code",
   "execution_count": 242,
   "id": "e8da30a5",
   "metadata": {},
   "outputs": [],
   "source": [
    "df['Overview'] = df['Overview'].str.lower()\n",
    "df['Overview'] = df['Overview'].apply(lambda i: re.sub('[^a-zA-Z]', ' ', i))\n",
    "df['Overview'] = df['Overview'].apply(lambda i: re.sub('\\s+', ' ', i))"
   ]
  },
  {
   "cell_type": "code",
   "execution_count": 243,
   "id": "bd84e176",
   "metadata": {},
   "outputs": [
    {
     "data": {
      "text/plain": [
       "0      two imprisoned men bond over a number of years...\n",
       "1      an organized crime dynasty s aging patriarch t...\n",
       "2      when the menace known as the joker wreaks havo...\n",
       "3      the early life and career of vito corleone in ...\n",
       "4      a jury holdout attempts to prevent a miscarria...\n",
       "                             ...                        \n",
       "995    a young new york socialite becomes interested ...\n",
       "996    sprawling epic covering the life of a texas ca...\n",
       "997    in hawaii in a private is cruelly punished for...\n",
       "998    several survivors of a torpedoed merchant ship...\n",
       "999    a man in london tries to help a counter espion...\n",
       "Name: Overview, Length: 1000, dtype: object"
      ]
     },
     "execution_count": 243,
     "metadata": {},
     "output_type": "execute_result"
    }
   ],
   "source": [
    "df['Overview']"
   ]
  },
  {
   "cell_type": "code",
   "execution_count": null,
   "id": "8a0803cf",
   "metadata": {},
   "outputs": [],
   "source": [
    "df['Overview'] = df['Overview'].apply(lambda i: nltk.word_tokenize(i))\n",
    "df['Overview']"
   ]
  },
  {
   "cell_type": "code",
   "execution_count": null,
   "id": "eccb1b5a",
   "metadata": {},
   "outputs": [],
   "source": [
    "word_rem = nltk.corpus.stopwords.words('english')\n",
    "temp_list = []\n",
    "for sent in df['Overview']:\n",
    "    temp = []\n",
    "    for word in sent:\n",
    "        if word not in word_rem and len(word) >= 3:\n",
    "            temp.append(word)\n",
    "    temp_list.append(temp)\n",
    "temp_list"
   ]
  },
  {
   "cell_type": "code",
   "execution_count": null,
   "id": "04fa9c8f",
   "metadata": {},
   "outputs": [],
   "source": [
    "df['Overview'] = temp_list\n",
    "df['Overview']"
   ]
  },
  {
   "cell_type": "code",
   "execution_count": null,
   "id": "5aac77cf",
   "metadata": {},
   "outputs": [],
   "source": [
    "df['Genre'] = df['Genre'].apply(lambda i: i.split(','))\n",
    "df['Genre'][0]"
   ]
  },
  {
   "cell_type": "code",
   "execution_count": null,
   "id": "3bc92bda",
   "metadata": {},
   "outputs": [],
   "source": [
    "df['Actors'] = df['Star1'] +','+ df['Star2'] +','+ df['Star3'] +','+ df['Star4']\n",
    "df['Actors'] = df['Actors'].apply(lambda i: i.split(','))"
   ]
  },
  {
   "cell_type": "code",
   "execution_count": null,
   "id": "c2b11981",
   "metadata": {},
   "outputs": [],
   "source": [
    "df['Actors'][85]"
   ]
  },
  {
   "cell_type": "code",
   "execution_count": null,
   "id": "449a8618",
   "metadata": {},
   "outputs": [],
   "source": [
    "df['Director'] = df['Director'].apply(lambda i: i.split(','))\n",
    "df['Director'][0]"
   ]
  },
  {
   "cell_type": "code",
   "execution_count": null,
   "id": "8c60733e",
   "metadata": {},
   "outputs": [],
   "source": [
    "def lowlow(lst):\n",
    "    temp_lst = []\n",
    "    for i in lst:\n",
    "        temp_lst.append(i.lower().replace(' ', ''))\n",
    "    return temp_lst"
   ]
  },
  {
   "cell_type": "code",
   "execution_count": null,
   "id": "50e35b1a",
   "metadata": {},
   "outputs": [],
   "source": [
    "df['Director'] = [lowlow(i) for i in df['Director']]\n",
    "df['Genre'] = [lowlow(i) for i in df['Genre']]\n",
    "df['Actors'] = [lowlow(i) for i in df['Actors']]"
   ]
  },
  {
   "cell_type": "code",
   "execution_count": null,
   "id": "f84c1a3c",
   "metadata": {},
   "outputs": [],
   "source": [
    "df['Director'][0]"
   ]
  },
  {
   "cell_type": "code",
   "execution_count": null,
   "id": "9aebaa2b",
   "metadata": {},
   "outputs": [],
   "source": [
    "df['Genre'][0]"
   ]
  },
  {
   "cell_type": "code",
   "execution_count": null,
   "id": "6a8a8ac3",
   "metadata": {},
   "outputs": [],
   "source": [
    "df['Actors'][0]"
   ]
  },
  {
   "cell_type": "code",
   "execution_count": null,
   "id": "e670aaf2",
   "metadata": {},
   "outputs": [],
   "source": [
    "col_list = ['Overview', 'Genre', 'Director', 'Actors']\n",
    "new_list = []\n",
    "for i in range(len(df)):\n",
    "    words = ''\n",
    "    for col in col_list:\n",
    "        words += ' '.join(df[col][i]) + ' '\n",
    "    new_list.append(words)"
   ]
  },
  {
   "cell_type": "code",
   "execution_count": null,
   "id": "4c394d6e",
   "metadata": {},
   "outputs": [],
   "source": [
    "new_list"
   ]
  },
  {
   "cell_type": "code",
   "execution_count": null,
   "id": "4942383c",
   "metadata": {},
   "outputs": [],
   "source": [
    "df['Overview'] = new_list\n",
    "df = df[['Series_Title', 'Overview']]\n",
    "df.head()"
   ]
  },
  {
   "cell_type": "code",
   "execution_count": null,
   "id": "04f0059c",
   "metadata": {},
   "outputs": [],
   "source": [
    "# computes the term frequency (TF) for each term in each document, which is the number of \n",
    "# times a term appears in a document\n",
    "\n",
    "tfi_vect = TfidfVectorizer()\n",
    "\n",
    "# fits the vectorizer to the training data\n",
    "feats = tfi_vect.fit_transform(df['Overview'])"
   ]
  },
  {
   "cell_type": "code",
   "execution_count": null,
   "id": "84e4c7d6",
   "metadata": {},
   "outputs": [],
   "source": [
    "# looks for similiarites in words in Overview rows\n",
    "cos_sim = cosine_similarity(feats, feats)\n",
    "print(cos_sim)"
   ]
  },
  {
   "cell_type": "code",
   "execution_count": null,
   "id": "a6c700db",
   "metadata": {},
   "outputs": [],
   "source": [
    "index = pd.Series(df['Series_Title'])\n",
    "index.head()"
   ]
  },
  {
   "cell_type": "code",
   "execution_count": null,
   "id": "8d019a03",
   "metadata": {},
   "outputs": [],
   "source": [
    "def suggest(title):\n",
    "    movies = []\n",
    "    idx = index[index == title].index[0]\n",
    "    print(idx)\n",
    "    sims = pd.Series(cos_sim[idx]).sort_values(ascending=False)\n",
    "    top3 = list(sims.iloc[1:4].index)\n",
    "    print(top3)\n",
    "    \n",
    "    for i in top3:\n",
    "        movies.append(df['Series_Title'][i])\n",
    "    return movies"
   ]
  },
  {
   "cell_type": "code",
   "execution_count": null,
   "id": "5fd6ce63",
   "metadata": {},
   "outputs": [],
   "source": [
    "suggest('12 Angry Movies')"
   ]
  },
  {
   "cell_type": "code",
   "execution_count": null,
   "id": "fef854d6",
   "metadata": {},
   "outputs": [],
   "source": []
  }
 ],
 "metadata": {
  "kernelspec": {
   "display_name": "venv",
   "language": "python",
   "name": "venv"
  },
  "language_info": {
   "codemirror_mode": {
    "name": "ipython",
    "version": 3
   },
   "file_extension": ".py",
   "mimetype": "text/x-python",
   "name": "python",
   "nbconvert_exporter": "python",
   "pygments_lexer": "ipython3",
   "version": "3.11.2"
  }
 },
 "nbformat": 4,
 "nbformat_minor": 5
}
